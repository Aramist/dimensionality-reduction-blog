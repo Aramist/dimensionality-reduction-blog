{
 "cells": [
  {
   "cell_type": "code",
   "execution_count": 1,
   "id": "96cf9d2f",
   "metadata": {},
   "outputs": [],
   "source": [
    "import numpy as np\n",
    "import matplotlib.pyplot as plt\n",
    "import pygad\n",
    "from sklearn.decomposition import PCA\n",
    "from scipy.spatial import KDTree\n",
    "from sklearn.manifold import TSNE\n",
    "\n",
    "import time\n",
    "\n",
    "from blog_utils import *"
   ]
  },
  {
   "cell_type": "markdown",
   "id": "a4492409",
   "metadata": {},
   "source": [
    "## Method signatures\n",
    "* dense_pairwise_distances(points)  Computes dense pairwise distance matrix on points\n",
    "* cross_dist(points, targets)  Computes Euclidean distance between point_i and every target in targets_i as an i,k matrix\n",
    "* get_top_nn(points, k)  Gets the indices of the top-K nearest neighbors of every point in points\n",
    "* embed_in_high_dim(points, embed_dim)  linearly embeds low-d manifold into higher dimensional space\n",
    "\n",
    "### embedding methods\n",
    "* make_tsne_embedding(points)\n",
    "* make_mds_embedding(points)\n",
    "* make_pca_embedding(points)\n",
    "\n",
    "### embedding distance methods\n",
    "* nn_cos_sim_distance(points_a, points_b, num_nn)\n",
    "* iou_distance(points_a, points_b, num_nn)\n",
    "\n",
    "### sampling methods\n",
    "* sample_sphere(manifold_dim, num_points, snr)  samples from n-dimensional spherical surface\n",
    "* sample_hypercube(manifold_dim, num_points, snr)  samples from n-dimensional hypercube surface, avoiding exact corners\n",
    "* sample_torus(num_points, snr, tube_radius, outer_radius)  samples from 3-d torus  (adapt to n-d somehow?????)"
   ]
  },
  {
   "cell_type": "code",
   "execution_count": 2,
   "id": "2015e820",
   "metadata": {},
   "outputs": [],
   "source": [
    "def helper_plot_err(points, embed_points, embed_type, fig_title, fname, num_nn=15):\n",
    "    cos_sims = iou_distance(points, embed_points, num_nn)\n",
    "    \n",
    "    plt.figure(figsize=(12, 5))\n",
    "    plt.suptitle(fig_title, fontsize=16)\n",
    "    plt.subplot(121)\n",
    "    plt.title(f'{embed_type} embedding')\n",
    "    plt.scatter(embed_points[:, 0], embed_points[:, 1], c=cos_sims, cmap='magma_r', s=3, alpha=1)\n",
    "    plt.clim(0, 1)\n",
    "    plt.xticks([])\n",
    "    plt.yticks([])\n",
    "    plt.colorbar()\n",
    "    plt.subplot(122)\n",
    "    plt.title('Neighborhood IOU Scores')\n",
    "    plt.hist(cos_sims)\n",
    "    plt.xlim(0, 1)\n",
    "    if fname is not None:\n",
    "        plt.savefig(fname, dpi=240)\n",
    "    plt.show()\n",
    "\n",
    "\n",
    "def helper_triple_plot(manifold_dim, embedding_dim, embed_type, *, num_nn=15, snr=10, num_points=2000):\n",
    "    point_groups = [\n",
    "        sample_sphere(manifold_dim, num_points, snr),\n",
    "        sample_hypercube(manifold_dim, num_points, snr),\n",
    "    ]\n",
    "    manifold_names = ['sphere', 'cube']\n",
    "    if manifold_dim == 3:\n",
    "        point_groups.append(sample_torus(num_points, snr, 1, 3))\n",
    "        manifold_names.append('torus')\n",
    "    \n",
    "    point_groups = [embed_in_high_dim(pcloud, embedding_dim) for pcloud in point_groups]\n",
    "    \n",
    "    if embed_type == 'pca':\n",
    "        embeddings = [make_pca_embedding(pcloud) for pcloud in point_groups]\n",
    "    elif embed_type == 'tsne':\n",
    "        embeddings = [make_tsne_embedding(pcloud) for pcloud in point_groups]\n",
    "    else:\n",
    "        embeddings = [make_mds_embedding(pcloud) for pcloud in point_groups]\n",
    "    \n",
    "    for points, embed_points, mname in zip(point_groups, embeddings, manifold_names):\n",
    "        points = (points - points.mean()) / points.var()\n",
    "        \n",
    "        fig_title = f'{manifold_dim}-d {mname.capitalize()} Embedded in {embedding_dim}-d Space.'\n",
    "        fname = fig_title.replace('-', '_').replace(' ', '_')\n",
    "        \n",
    "        helper_plot_err(points, embed_points, embed_type, fig_title, fname, num_nn=num_nn)\n"
   ]
  },
  {
   "cell_type": "code",
   "execution_count": 3,
   "id": "0f5f0172",
   "metadata": {},
   "outputs": [
    {
     "data": {
      "text/plain": [
       "(0, 5)"
      ]
     },
     "execution_count": 3,
     "metadata": {},
     "output_type": "execute_result"
    }
   ],
   "source": [
    "np.unravel_index(5, (10, 20))"
   ]
  },
  {
   "cell_type": "code",
   "execution_count": null,
   "id": "93b5448d",
   "metadata": {},
   "outputs": [],
   "source": [
    "def make_gaussian(mean, cov, resolution):\n",
    "    # mean: (2,)\n",
    "    # cov: (2, 2)\n",
    "    # resolution: scalar\n",
    "    bins = np.linspace(0, 1, resolution)\n",
    "    points = np.stack(np.meshgrid(bins, bins, indexing='xy'), axis=2)\n",
    "    \n",
    "    prec = np.linalg.inv(cov)\n",
    "    #-0.5 (x-mu)^t prec (x-mu)\n",
    "    exp_term = -0.5 * "
   ]
  },
  {
   "cell_type": "code",
   "execution_count": 33,
   "id": "fa2bbf8d",
   "metadata": {},
   "outputs": [],
   "source": [
    "def sample_plane(num_points, pmf=None):\n",
    "    # num_points: number of points to sample\n",
    "    # pmf: probability mass function over the unit square (x_resolution, y_resolution) or None\n",
    "    # Samples from the unit square (corners at origin and 1,1) according to provided pmf\n",
    "    if pmf is None:\n",
    "        return np.random.random(size=(num_points, 2))\n",
    "    pmf = pmf / pmf.sum()\n",
    "    flat_pmf = pmf.ravel()\n",
    "    n_yb, n_xb = pmf.shape\n",
    "    x_bins = np.linspace(0, 1, n_xb + 1, endpoint=True)\n",
    "    y_bins = np.linspace(0, 1, n_yb + 1, endpoint=True)[::-1]\n",
    "\n",
    "    # first sample a bin\n",
    "    bins = np.random.choice(np.arange(len(flat_pmf)), size=num_points, replace=True, p=flat_pmf)\n",
    "    # within each bin, randomly sample\n",
    "    points = []\n",
    "    for bin in bins:\n",
    "        bin = np.unravel_index(bin, pmf.shape)  # returns a 2-tuple\n",
    "        x_lo, x_hi = x_bins[bin[1]:bin[1]+2]\n",
    "        y_lo, y_hi = y_bins[bin[0]:bin[0]+2]\n",
    "        x = np.random.uniform(x_lo, x_hi)\n",
    "        y = np.random.uniform(y_lo, y_hi)\n",
    "        points.append(np.array([x, y]))\n",
    "    return np.stack(points)"
   ]
  },
  {
   "cell_type": "code",
   "execution_count": 52,
   "id": "61404e39",
   "metadata": {},
   "outputs": [],
   "source": [
    "pmf = np.zeros((200, 200))\n",
    "pmf[np.diag_indices(200)] = 1"
   ]
  },
  {
   "cell_type": "code",
   "execution_count": 54,
   "id": "f7404f3b",
   "metadata": {},
   "outputs": [
    {
     "data": {
      "image/png": "[encoded data removed]",
      "text/plain": [
       "<Figure size 640x480 with 1 Axes>"
      ]
     },
     "metadata": {},
     "output_type": "display_data"
    }
   ],
   "source": [
    "plt.scatter(*sample_plane(1000, pmf).T, s=2, alpha=0.4, c='m')\n",
    "plt.xlim(0, 1)\n",
    "plt.ylim(0, 1)\n",
    "plt.show()"
   ]
  },
  {
   "cell_type": "code",
   "execution_count": null,
   "id": "1e2701f0",
   "metadata": {},
   "outputs": [],
   "source": []
  }
 ],
 "metadata": {
  "kernelspec": {
   "display_name": "Python 3 (ipykernel)",
   "language": "python",
   "name": "python3"
  },
  "language_info": {
   "codemirror_mode": {
    "name": "ipython",
    "version": 3
   },
   "file_extension": ".py",
   "mimetype": "text/x-python",
   "name": "python",
   "nbconvert_exporter": "python",
   "pygments_lexer": "ipython3",
   "version": "3.10.10"
  }
 },
 "nbformat": 4,
 "nbformat_minor": 5
}
